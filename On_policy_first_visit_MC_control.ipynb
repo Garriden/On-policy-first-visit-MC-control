{
  "nbformat": 4,
  "nbformat_minor": 0,
  "metadata": {
    "colab": {
      "name": "On-policy first-visit MC control.ipynb",
      "provenance": [],
      "collapsed_sections": []
    },
    "kernelspec": {
      "name": "python3",
      "display_name": "Python 3"
    }
  },
  "cells": [
    {
      "cell_type": "markdown",
      "metadata": {
        "id": "syExwwSkAf5R",
        "colab_type": "text"
      },
      "source": [
        "Monte Carlo Policy Optimization,\n",
        "the algorithm given on page 101 of Sutton & Barton\n",
        "for the game of gridworld. "
      ]
    },
    {
      "cell_type": "code",
      "metadata": {
        "id": "lSeOjfKi-5kO",
        "colab_type": "code",
        "colab": {}
      },
      "source": [
        "import numpy as np\n",
        "import random\n",
        "from collections import defaultdict\n",
        "\n",
        "WORLD_SIZE = 4\n",
        "# left, up, right, down\n",
        "ACTIONS = [(0, -1),\n",
        "           (-1, 0),\n",
        "           (0, 1),\n",
        "           (1, 0)]\n",
        "ACTION_PROB = 0.25\n",
        "ACTIONS_FIGS=[ '←', '↑', '→', '↓']\n",
        "\n",
        "#check if the spot is final destination\n",
        "def is_terminal(state):\n",
        "    x, y = state\n",
        "    return (x == 0 and y == 0) or (x == WORLD_SIZE - 1 and y == WORLD_SIZE - 1)\n",
        "\n",
        "#function to move\n",
        "def step(state, action):\n",
        "    if is_terminal(state):\n",
        "        return state, 0\n",
        "\n",
        "    next_state = (np.array(state) + action).tolist()\n",
        "    x, y = next_state\n",
        "\n",
        "    if x < 0 or x >= WORLD_SIZE or y < 0 or y >= WORLD_SIZE:\n",
        "        next_state = state\n",
        "\n",
        "    reward = -1\n",
        "    return next_state, reward "
      ],
      "execution_count": null,
      "outputs": []
    },
    {
      "cell_type": "code",
      "metadata": {
        "id": "m9kOIOPlgidX",
        "colab_type": "code",
        "colab": {}
      },
      "source": [
        "#our initial environment\n",
        "env1=([[0, 0, 0, 0],\n",
        "       [0, 0, 0, 0],\n",
        "       [0, 0, 0, 0],\n",
        "       [0, 0, 0, 0]])"
      ],
      "execution_count": null,
      "outputs": []
    },
    {
      "cell_type": "code",
      "metadata": {
        "id": "s2B5BIqnjGIx",
        "colab_type": "code",
        "colab": {}
      },
      "source": [
        "#one episode generator. Takes into account epsilon greedy factor.\n",
        "def generate_episode(Q5, eps):\n",
        "    i=random.randint(0,3)\n",
        "    j=random.randint(0,3)\n",
        "    trajectory = []\n",
        "    while True:\n",
        "       SS = (i,j)\n",
        "       if np.random.rand() > eps:\n",
        "         temp1={}\n",
        "         for a in ACTIONS:\n",
        "           temp1[(SS,(a))] = Q5[(SS,(a))]\n",
        "         max_key = max(temp1, key=temp1.get)  \n",
        "         action=max_key[1]\n",
        "       else:\n",
        "          action = ACTIONS[random.randint(0,3)]\n",
        "     \n",
        "       (next_i, next_j), reward = step([i, j], action)\n",
        "       trajectory.append(((i, j), reward, action))\n",
        "       i= next_i\n",
        "       j = next_j\n",
        "       if  (i == 0 and j == 0) or (i == WORLD_SIZE - 1 and j == WORLD_SIZE - 1):  break\n",
        "    return trajectory, len(trajectory)-1"
      ],
      "execution_count": null,
      "outputs": []
    },
    {
      "cell_type": "code",
      "metadata": {
        "id": "YTbI11jPuuEJ",
        "colab_type": "code",
        "colab": {}
      },
      "source": [
        "#main function. Generates Q(State-Action,Value) and pi(State-Action, probability)\n",
        "def on_policy_MC_control11(ep, gamma, eps):\n",
        "    \"\"\" ep - number of episodes to run\n",
        "        gamma - discount factor\n",
        "        eps - epsilon-greedy parameter\n",
        "    \"\"\" \n",
        "    pi = defaultdict(lambda: 1/4)\n",
        "    Returns = defaultdict(list)  # dict of lists\n",
        "    #by Kamali \n",
        "    for _ in range(ep):\n",
        "      traj, T = generate_episode(Q5, eps)\n",
        "      G = 0\n",
        "      for t in range(T-1,-1,-1):\n",
        "            St, _, At = traj[t]      # (st, rew, act)\n",
        "            _, Rt_1 , _ = traj[t+1]\n",
        "            \n",
        "            G = gamma * G + Rt_1\n",
        "            \n",
        "            if not (St, At) in [(traj[i][0], traj[i][2]) for i in range(0, t)]:\n",
        "                Returns[(St, At)].append(G)\n",
        "                Q5[(St, At)] = (np.average(Returns[(St, At)]))\n",
        "                temp2={}\n",
        "                for a in ACTIONS:\n",
        "                  temp2[(St,(a))] = Q5[(St,(a))]\n",
        "                max_key = max(temp2, key=temp2.get)  \n",
        "                A_star=max_key[1]\n",
        "                #A_star = argmax_rand([Q[(St,a)] for a in ACTIONS])  \n",
        "                for a in ACTIONS:\n",
        "                    if a == A_star:   pi[(St,a)] = 1 - eps + eps/4\n",
        "                    else:             pi[(St,a)] = eps/4\n",
        "                        \n",
        "    return Q5, pi"
      ],
      "execution_count": null,
      "outputs": []
    },
    {
      "cell_type": "code",
      "metadata": {
        "id": "A8XemoVV4sbK",
        "colab_type": "code",
        "colab": {}
      },
      "source": [
        "#Q table of the initital stage\n",
        "Q5 = {((0, 3), (-1, 0)): 0,  ((0, 3), (0, 1)): 0, ((0, 3), (1, 0)): 0, ((0, 3), (0, -1)): 0, \n",
        "     ((0, 2), (-1, 0)): 0,  ((0, 2), (0, 1)): 0, ((0, 2), (1, 0)): 0, ((0, 2), (0, -1)): 0, \n",
        "     ((0, 1), (-1, 0)): 0,  ((0, 1), (0, 1)): 0, ((0, 1), (1, 0)): 0, ((0, 1), (0, -1)): 0, \n",
        "     ((0, 0), (-1, 0)): 0,  ((0, 0), (0, 1)): 0, ((0, 0), (1, 0)): 0, ((0, 0), (0, -1)): 0, \n",
        "     ((1, 3), (-1, 0)): 0,  ((1, 3), (0, 1)): 0, ((1, 3), (1, 0)): 0, ((1, 3), (0, -1)): 0, \n",
        "     ((1, 2), (-1, 0)): 0,  ((1, 2), (0, 1)): 0, ((1, 2), (1, 0)): 0, ((1, 2), (0, -1)): 0, \n",
        "     ((1, 1), (-1, 0)): 0,  ((1, 1), (0, 1)): 0, ((1, 1), (1, 0)): 0, ((1, 1), (0, -1)): 0, \n",
        "     ((1, 0), (-1, 0)): 0,  ((1, 0), (0, 1)): 0, ((1, 0), (1, 0)): 0, ((1, 0), (0, -1)): 0,\n",
        "     ((2, 3), (-1, 0)): 0,  ((2, 3), (0, 1)): 0, ((2, 3), (1, 0)): 0, ((2, 3), (0, -1)): 0, \n",
        "     ((2, 2), (-1, 0)): 0,  ((2, 2), (0, 1)): 0, ((2, 2), (1, 0)): 0, ((2, 2), (0, -1)): 0, \n",
        "     ((2, 1), (-1, 0)): 0,  ((2, 1), (0, 1)): 0, ((2, 1), (1, 0)): 0, ((2, 1), (0, -1)): 0, \n",
        "     ((2, 0), (-1, 0)): 0,  ((2, 0), (0, 1)): 0, ((2, 0), (1, 0)): 0, ((2, 0), (0, -1)): 0, \n",
        "     ((3, 3), (-1, 0)): 0,  ((3, 3), (0, 1)): 0, ((3, 3), (1, 0)): 0, ((3, 3), (0, -1)): 0, \n",
        "     ((3, 2), (-1, 0)): 0,  ((3, 2), (0, 1)): 0, ((3, 2), (1, 0)): 0, ((3, 2), (0, -1)): 0, \n",
        "     ((3, 1), (-1, 0)): 0,  ((3, 1), (0, 1)): 0, ((3, 1), (1, 0)): 0, ((3, 1), (0, -1)): 0, \n",
        "     ((3, 0), (-1, 0)): 0,  ((3, 0), (0, 1)): 0, ((3, 0), (1, 0)): 0, ((3, 0), (0, -1)): 0,  \n",
        "     }"
      ],
      "execution_count": null,
      "outputs": []
    },
    {
      "cell_type": "code",
      "metadata": {
        "id": "U0UiZ0h3de-B",
        "colab_type": "code",
        "colab": {}
      },
      "source": [
        "#run the function\n",
        "Q, pi = on_policy_MC_control11(ep=300000, gamma=1, eps=0.1)"
      ],
      "execution_count": null,
      "outputs": []
    },
    {
      "cell_type": "code",
      "metadata": {
        "id": "AVv8mU37WjTg",
        "colab_type": "code",
        "colab": {}
      },
      "source": [
        "#get unique states in the environment\n",
        "address1=[]\n",
        "keys=Q5.keys()\n",
        "for i in keys:\n",
        "  if i[0] != (0, 0):\n",
        "    if i[0] != (3,3):\n",
        "      address1.append(i[0])\n",
        "address=set(address1)  "
      ],
      "execution_count": null,
      "outputs": []
    },
    {
      "cell_type": "code",
      "metadata": {
        "id": "0RxOiTWL8lG0",
        "colab_type": "code",
        "colab": {
          "base_uri": "https://localhost:8080/",
          "height": 1000
        },
        "outputId": "e49b1d93-1129-4233-f275-cd8062e20668"
      },
      "source": [
        "#our Q(State-Action, Value)\n",
        "Q"
      ],
      "execution_count": null,
      "outputs": [
        {
          "output_type": "execute_result",
          "data": {
            "text/plain": [
              "{((0, 0), (-1, 0)): 0,\n",
              " ((0, 0), (0, -1)): 0,\n",
              " ((0, 0), (0, 1)): 0,\n",
              " ((0, 0), (1, 0)): 0,\n",
              " ((0, 1), (-1, 0)): -1.1279782164737917,\n",
              " ((0, 1), (0, -1)): 0,\n",
              " ((0, 1), (0, 1)): -2.2841379310344827,\n",
              " ((0, 1), (1, 0)): -2.2612966601178783,\n",
              " ((0, 2), (-1, 0)): -2.3199598796389167,\n",
              " ((0, 2), (0, -1)): -1.140703116689714,\n",
              " ((0, 2), (0, 1)): -3.3379446640316206,\n",
              " ((0, 2), (1, 0)): -3.28041825095057,\n",
              " ((0, 3), (-1, 0)): -3.3611650485436892,\n",
              " ((0, 3), (0, -1)): -2.279051670471052,\n",
              " ((0, 3), (0, 1)): -3.353281853281853,\n",
              " ((0, 3), (1, 0)): -2.302325581395349,\n",
              " ((1, 0), (-1, 0)): 0,\n",
              " ((1, 0), (0, -1)): -1.1317414573898723,\n",
              " ((1, 0), (0, 1)): -2.2170361726954493,\n",
              " ((1, 0), (1, 0)): -2.248768472906404,\n",
              " ((1, 1), (-1, 0)): -1.1587591240875912,\n",
              " ((1, 1), (0, -1)): -1.1417876241405653,\n",
              " ((1, 1), (0, 1)): -3.2432179607109446,\n",
              " ((1, 1), (1, 0)): -3.254794520547945,\n",
              " ((1, 2), (-1, 0)): -2.2640625,\n",
              " ((1, 2), (0, -1)): -2.247014003294893,\n",
              " ((1, 2), (0, 1)): -2.26027397260274,\n",
              " ((1, 2), (1, 0)): -2.2657004830917873,\n",
              " ((1, 3), (-1, 0)): -3.359259259259259,\n",
              " ((1, 3), (0, -1)): -3.216845878136201,\n",
              " ((1, 3), (0, 1)): -2.3308823529411766,\n",
              " ((1, 3), (1, 0)): -1.1415632506004805,\n",
              " ((2, 0), (-1, 0)): -1.1392080080910765,\n",
              " ((2, 0), (0, -1)): -2.274864376130199,\n",
              " ((2, 0), (0, 1)): -3.254681647940075,\n",
              " ((2, 0), (1, 0)): -3.3194444444444446,\n",
              " ((2, 1), (-1, 0)): -2.309090909090909,\n",
              " ((2, 1), (0, -1)): -2.276666666666667,\n",
              " ((2, 1), (0, 1)): -2.2406204361182454,\n",
              " ((2, 1), (1, 0)): -2.2922535211267605,\n",
              " ((2, 2), (-1, 0)): -3.231267345050879,\n",
              " ((2, 2), (0, -1)): -3.255255255255255,\n",
              " ((2, 2), (0, 1)): -1.159536541889483,\n",
              " ((2, 2), (1, 0)): -1.142820120766061,\n",
              " ((2, 3), (-1, 0)): -2.236448598130841,\n",
              " ((2, 3), (0, -1)): -2.2311411992263057,\n",
              " ((2, 3), (0, 1)): -1.1570247933884297,\n",
              " ((2, 3), (1, 0)): 0,\n",
              " ((3, 0), (-1, 0)): -2.2802400738688826,\n",
              " ((3, 0), (0, -1)): -3.30142566191446,\n",
              " ((3, 0), (0, 1)): -2.3053311793214863,\n",
              " ((3, 0), (1, 0)): -3.3672014260249554,\n",
              " ((3, 1), (-1, 0)): -3.237458193979933,\n",
              " ((3, 1), (0, -1)): -3.29706390328152,\n",
              " ((3, 1), (0, 1)): -1.1459053928971599,\n",
              " ((3, 1), (1, 0)): -2.281767955801105,\n",
              " ((3, 2), (-1, 0)): -2.248736097067745,\n",
              " ((3, 2), (0, -1)): -2.3033932135728543,\n",
              " ((3, 2), (0, 1)): 0,\n",
              " ((3, 2), (1, 0)): -1.1398884946781551,\n",
              " ((3, 3), (-1, 0)): 0,\n",
              " ((3, 3), (0, -1)): 0,\n",
              " ((3, 3), (0, 1)): 0,\n",
              " ((3, 3), (1, 0)): 0}"
            ]
          },
          "metadata": {
            "tags": []
          },
          "execution_count": 36
        }
      ]
    },
    {
      "cell_type": "code",
      "metadata": {
        "id": "7dTLTua1FKwE",
        "colab_type": "code",
        "colab": {
          "base_uri": "https://localhost:8080/",
          "height": 974
        },
        "outputId": "e75a4917-9045-48a3-c3c9-e19be2af4091"
      },
      "source": [
        "#our pi (State-Action, probability). This is not necessary as we already have Q but nice to have\n",
        "pi"
      ],
      "execution_count": null,
      "outputs": [
        {
          "output_type": "execute_result",
          "data": {
            "text/plain": [
              "defaultdict(<function __main__.on_policy_MC_control11.<locals>.<lambda>>,\n",
              "            {((0, 1), (-1, 0)): 0.025,\n",
              "             ((0, 1), (0, -1)): 0.925,\n",
              "             ((0, 1), (0, 1)): 0.025,\n",
              "             ((0, 1), (1, 0)): 0.025,\n",
              "             ((0, 2), (-1, 0)): 0.025,\n",
              "             ((0, 2), (0, -1)): 0.925,\n",
              "             ((0, 2), (0, 1)): 0.025,\n",
              "             ((0, 2), (1, 0)): 0.025,\n",
              "             ((0, 3), (-1, 0)): 0.025,\n",
              "             ((0, 3), (0, -1)): 0.925,\n",
              "             ((0, 3), (0, 1)): 0.025,\n",
              "             ((0, 3), (1, 0)): 0.025,\n",
              "             ((1, 0), (-1, 0)): 0.925,\n",
              "             ((1, 0), (0, -1)): 0.025,\n",
              "             ((1, 0), (0, 1)): 0.025,\n",
              "             ((1, 0), (1, 0)): 0.025,\n",
              "             ((1, 1), (-1, 0)): 0.025,\n",
              "             ((1, 1), (0, -1)): 0.925,\n",
              "             ((1, 1), (0, 1)): 0.025,\n",
              "             ((1, 1), (1, 0)): 0.025,\n",
              "             ((1, 2), (-1, 0)): 0.025,\n",
              "             ((1, 2), (0, -1)): 0.925,\n",
              "             ((1, 2), (0, 1)): 0.025,\n",
              "             ((1, 2), (1, 0)): 0.025,\n",
              "             ((1, 3), (-1, 0)): 0.025,\n",
              "             ((1, 3), (0, -1)): 0.025,\n",
              "             ((1, 3), (0, 1)): 0.025,\n",
              "             ((1, 3), (1, 0)): 0.925,\n",
              "             ((2, 0), (-1, 0)): 0.925,\n",
              "             ((2, 0), (0, -1)): 0.025,\n",
              "             ((2, 0), (0, 1)): 0.025,\n",
              "             ((2, 0), (1, 0)): 0.025,\n",
              "             ((2, 1), (-1, 0)): 0.025,\n",
              "             ((2, 1), (0, -1)): 0.025,\n",
              "             ((2, 1), (0, 1)): 0.925,\n",
              "             ((2, 1), (1, 0)): 0.025,\n",
              "             ((2, 2), (-1, 0)): 0.025,\n",
              "             ((2, 2), (0, -1)): 0.025,\n",
              "             ((2, 2), (0, 1)): 0.025,\n",
              "             ((2, 2), (1, 0)): 0.925,\n",
              "             ((2, 3), (-1, 0)): 0.025,\n",
              "             ((2, 3), (0, -1)): 0.025,\n",
              "             ((2, 3), (0, 1)): 0.025,\n",
              "             ((2, 3), (1, 0)): 0.925,\n",
              "             ((3, 0), (-1, 0)): 0.925,\n",
              "             ((3, 0), (0, -1)): 0.025,\n",
              "             ((3, 0), (0, 1)): 0.025,\n",
              "             ((3, 0), (1, 0)): 0.025,\n",
              "             ((3, 1), (-1, 0)): 0.025,\n",
              "             ((3, 1), (0, -1)): 0.025,\n",
              "             ((3, 1), (0, 1)): 0.925,\n",
              "             ((3, 1), (1, 0)): 0.025,\n",
              "             ((3, 2), (-1, 0)): 0.025,\n",
              "             ((3, 2), (0, -1)): 0.025,\n",
              "             ((3, 2), (0, 1)): 0.925,\n",
              "             ((3, 2), (1, 0)): 0.025})"
            ]
          },
          "metadata": {
            "tags": []
          },
          "execution_count": 37
        }
      ]
    },
    {
      "cell_type": "code",
      "metadata": {
        "id": "xlU_jvOI_Men",
        "colab_type": "code",
        "colab": {
          "base_uri": "https://localhost:8080/",
          "height": 252
        },
        "outputId": "766cf5d1-4254-4510-8d3d-ac4d2c7d3274"
      },
      "source": [
        "#optimal pi with State and the best action to take\n",
        "optimal_pi={}\n",
        "for i in address:\n",
        "  temp={}\n",
        "  for a in ACTIONS:\n",
        "    temp[((i),(a))] = pi[((i),(a))]\n",
        "  max_key = max(temp, key=temp.get)  \n",
        "  optimal_pi[max_key[0]]=max_key[1]\n",
        "optimal_pi"
      ],
      "execution_count": null,
      "outputs": [
        {
          "output_type": "execute_result",
          "data": {
            "text/plain": [
              "{(0, 1): (0, -1),\n",
              " (0, 2): (0, -1),\n",
              " (0, 3): (0, -1),\n",
              " (1, 0): (-1, 0),\n",
              " (1, 1): (0, -1),\n",
              " (1, 2): (0, -1),\n",
              " (1, 3): (1, 0),\n",
              " (2, 0): (-1, 0),\n",
              " (2, 1): (0, 1),\n",
              " (2, 2): (1, 0),\n",
              " (2, 3): (1, 0),\n",
              " (3, 0): (-1, 0),\n",
              " (3, 1): (0, 1),\n",
              " (3, 2): (0, 1)}"
            ]
          },
          "metadata": {
            "tags": []
          },
          "execution_count": 38
        }
      ]
    },
    {
      "cell_type": "code",
      "metadata": {
        "id": "bywZrzCQLGyQ",
        "colab_type": "code",
        "colab": {
          "base_uri": "https://localhost:8080/",
          "height": 252
        },
        "outputId": "45863211-c345-4892-e073-0066987f547b"
      },
      "source": [
        "#replace action with arrows for easy reading\n",
        "optimal_pi_dir={}\n",
        "for spot, dir in optimal_pi.items():\n",
        "  if dir == (0, -1):\n",
        "    optimal_pi_dir[spot]='←'\n",
        "  elif dir == (0, 1):\n",
        "    optimal_pi_dir[spot]='→'\n",
        "  elif dir == (1, 0):\n",
        "    optimal_pi_dir[spot]='↓'\n",
        "  elif dir == (-1, 0):\n",
        "    optimal_pi_dir[spot]='↑'  \n",
        "optimal_pi_dir"
      ],
      "execution_count": null,
      "outputs": [
        {
          "output_type": "execute_result",
          "data": {
            "text/plain": [
              "{(0, 1): '←',\n",
              " (0, 2): '←',\n",
              " (0, 3): '←',\n",
              " (1, 0): '↑',\n",
              " (1, 1): '←',\n",
              " (1, 2): '←',\n",
              " (1, 3): '↓',\n",
              " (2, 0): '↑',\n",
              " (2, 1): '→',\n",
              " (2, 2): '↓',\n",
              " (2, 3): '↓',\n",
              " (3, 0): '↑',\n",
              " (3, 1): '→',\n",
              " (3, 2): '→'}"
            ]
          },
          "metadata": {
            "tags": []
          },
          "execution_count": 39
        }
      ]
    },
    {
      "cell_type": "code",
      "metadata": {
        "id": "cFKs0jsK_OeK",
        "colab_type": "code",
        "colab": {
          "base_uri": "https://localhost:8080/",
          "height": 84
        },
        "outputId": "01989b5b-1b74-47d7-81cc-63d6f506cf6e"
      },
      "source": [
        "#our final environment with the solution(best move) in each state as per our function\n",
        "for i in optimal_pi_dir.keys():\n",
        "  env1[i[0]][i[1]]=optimal_pi_dir[i]\n",
        "env1"
      ],
      "execution_count": null,
      "outputs": [
        {
          "output_type": "execute_result",
          "data": {
            "text/plain": [
              "[[0, '←', '←', '←'],\n",
              " ['↑', '←', '←', '↓'],\n",
              " ['↑', '→', '↓', '↓'],\n",
              " ['↑', '→', '→', 0]]"
            ]
          },
          "metadata": {
            "tags": []
          },
          "execution_count": 40
        }
      ]
    },
    {
      "cell_type": "code",
      "metadata": {
        "id": "o8yMzHPYbCMP",
        "colab_type": "code",
        "colab": {}
      },
      "source": [
        ""
      ],
      "execution_count": null,
      "outputs": []
    }
  ]
}